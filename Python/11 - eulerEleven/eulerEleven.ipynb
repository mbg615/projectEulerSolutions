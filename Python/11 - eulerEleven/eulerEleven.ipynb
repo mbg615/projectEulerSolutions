{
 "cells": [
  {
   "cell_type": "markdown",
   "metadata": {},
   "source": [
    "# Project Euler Eleven Solution\n",
    "## By: MBG"
   ]
  },
  {
   "cell_type": "markdown",
   "metadata": {},
   "source": [
    "### 1 - Import Modules"
   ]
  },
  {
   "cell_type": "code",
   "execution_count": 1,
   "metadata": {},
   "outputs": [],
   "source": [
    "import numpy as np"
   ]
  },
  {
   "cell_type": "markdown",
   "metadata": {},
   "source": [
    "### 2 - Read Data"
   ]
  },
  {
   "cell_type": "code",
   "execution_count": 2,
   "metadata": {},
   "outputs": [],
   "source": [
    "matrix = np.loadtxt('eulerEleven.txt') # Looks for and reads the file 'eulerEleven.txt'"
   ]
  },
  {
   "cell_type": "markdown",
   "metadata": {},
   "source": [
    "### 3 - Run Calculations"
   ]
  },
  {
   "cell_type": "code",
   "execution_count": 3,
   "metadata": {},
   "outputs": [
    {
     "name": "stdout",
     "output_type": "stream",
     "text": [
      "The maximum product of any four adjicent nubers in the matrix [[ 8.  2. 22. 97. 38. 15.  0. 40.  0. 75.  4.  5.  7. 78. 52. 12. 50. 77.\n",
      "  91.  8.]\n",
      " [49. 49. 99. 40. 17. 81. 18. 57. 60. 87. 17. 40. 98. 43. 69. 48.  4. 56.\n",
      "  62.  0.]\n",
      " [81. 49. 31. 73. 55. 79. 14. 29. 93. 71. 40. 67. 53. 88. 30.  3. 49. 13.\n",
      "  36. 65.]\n",
      " [52. 70. 95. 23.  4. 60. 11. 42. 69. 24. 68. 56.  1. 32. 56. 71. 37.  2.\n",
      "  36. 91.]\n",
      " [22. 31. 16. 71. 51. 67. 63. 89. 41. 92. 36. 54. 22. 40. 40. 28. 66. 33.\n",
      "  13. 80.]\n",
      " [24. 47. 32. 60. 99.  3. 45.  2. 44. 75. 33. 53. 78. 36. 84. 20. 35. 17.\n",
      "  12. 50.]\n",
      " [32. 98. 81. 28. 64. 23. 67. 10. 26. 38. 40. 67. 59. 54. 70. 66. 18. 38.\n",
      "  64. 70.]\n",
      " [67. 26. 20. 68.  2. 62. 12. 20. 95. 63. 94. 39. 63.  8. 40. 91. 66. 49.\n",
      "  94. 21.]\n",
      " [24. 55. 58.  5. 66. 73. 99. 26. 97. 17. 78. 78. 96. 83. 14. 88. 34. 89.\n",
      "  63. 72.]\n",
      " [21. 36. 23.  9. 75.  0. 76. 44. 20. 45. 35. 14.  0. 61. 33. 97. 34. 31.\n",
      "  33. 95.]\n",
      " [78. 17. 53. 28. 22. 75. 31. 67. 15. 94.  3. 80.  4. 62. 16. 14.  9. 53.\n",
      "  56. 92.]\n",
      " [16. 39.  5. 42. 96. 35. 31. 47. 55. 58. 88. 24.  0. 17. 54. 24. 36. 29.\n",
      "  85. 57.]\n",
      " [86. 56.  0. 48. 35. 71. 89.  7.  5. 44. 44. 37. 44. 60. 21. 58. 51. 54.\n",
      "  17. 58.]\n",
      " [19. 80. 81. 68.  5. 94. 47. 69. 28. 73. 92. 13. 86. 52. 17. 77.  4. 89.\n",
      "  55. 40.]\n",
      " [ 4. 52.  8. 83. 97. 35. 99. 16.  7. 97. 57. 32. 16. 26. 26. 79. 33. 27.\n",
      "  98. 66.]\n",
      " [88. 36. 68. 87. 57. 62. 20. 72.  3. 46. 33. 67. 46. 55. 12. 32. 63. 93.\n",
      "  53. 69.]\n",
      " [ 4. 42. 16. 73. 38. 25. 39. 11. 24. 94. 72. 18.  8. 46. 29. 32. 40. 62.\n",
      "  76. 36.]\n",
      " [20. 69. 36. 41. 72. 30. 23. 88. 34. 62. 99. 69. 82. 67. 59. 85. 74.  4.\n",
      "  36. 16.]\n",
      " [20. 73. 35. 29. 78. 31. 90.  1. 74. 31. 49. 71. 48. 86. 81. 16. 23. 57.\n",
      "   5. 54.]\n",
      " [ 1. 70. 54. 71. 83. 51. 54. 69. 16. 92. 33. 48. 61. 43. 52.  1. 89. 19.\n",
      "  67. 48.]] is 70600674\n"
     ]
    }
   ],
   "source": [
    "maxProd = 1\n",
    "for i in range(16):\n",
    "    for j in range(16):\n",
    "        productOne = matrix[i, j] * matrix[i + 1, j] * matrix[i + 2, j] * matrix[i + 3, j]\n",
    "        if productOne > maxProd:\n",
    "            maxProd = productOne\n",
    "        \n",
    "        productTwo = matrix[i, j] * matrix[i, j + 1] * matrix[i, j + 2] * matrix[i, j + 3]\n",
    "        if productTwo > maxProd:\n",
    "            maxProd = productTwo\n",
    "            \n",
    "        productThree = matrix[i, j] * matrix[i + 1, j + 1] * matrix[i + 2, j + 2] * matrix[i + 3, j + 3]\n",
    "        if productThree > maxProd:\n",
    "            maxProd = productThree\n",
    "            \n",
    "        productFour = matrix[19 - i, j] * matrix[18 - i, j + 1] * matrix[17 - i, j + 2] * matrix[16 - i, j + 3]\n",
    "        if productFour > maxProd:\n",
    "            maxProd = productFour\n",
    "print(\"The maximum product of any four adjicent nubers in the matrix\", matrix, \"is\", int(maxProd))"
   ]
  }
 ],
 "metadata": {
  "kernelspec": {
   "display_name": "Python 3",
   "language": "python",
   "name": "python3"
  },
  "language_info": {
   "codemirror_mode": {
    "name": "ipython",
    "version": 3
   },
   "file_extension": ".py",
   "mimetype": "text/x-python",
   "name": "python",
   "nbconvert_exporter": "python",
   "pygments_lexer": "ipython3",
   "version": "3.8.5"
  }
 },
 "nbformat": 4,
 "nbformat_minor": 4
}
